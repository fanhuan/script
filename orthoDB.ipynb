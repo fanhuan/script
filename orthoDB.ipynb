{
 "cells": [
  {
   "cell_type": "markdown",
   "metadata": {},
   "source": [
    "# Download all protein sequences in orthoDB v11 for one/multiple species\n",
    "\n",
    "First you search for all the clusters that have this species:\n",
    "\n",
    "`curl 'https://data.orthodb.org/current/search?species=51953' -L -o search.dat`\n",
    "\n",
    "Then you download its sequences in those clusters one by one (note that both id and species have to be specified, cannot just specify species, bummer)\n",
    "\n",
    "`curl 'https://data.orthodb.org/current/fasta?id=1005399at2759&species=51953' -L -o data.fs`"
   ]
  },
  {
   "cell_type": "markdown",
   "metadata": {},
   "source": [
    "## parse the search.data"
   ]
  },
  {
   "cell_type": "code",
   "execution_count": 23,
   "metadata": {},
   "outputs": [],
   "source": [
    "import json\n",
    "\n",
    "file_path = \"/bioinfo/palm/ref/orthoDBv11/search.dat\"\n",
    "\n",
    "with open(file_path, \"r\") as json_file:\n",
    "    data_dict = json.load(json_file)\n",
    "\n",
    "ortholog_path = \"/bioinfo/palm/ref/orthoDBv11/orthologs.dat\"\n",
    "\n",
    "with open(ortholog_path, \"r\") as json_file:\n",
    "    ortholog_dict = json.load(json_file)"
   ]
  },
  {
   "cell_type": "code",
   "execution_count": 11,
   "metadata": {},
   "outputs": [
    {
     "data": {
      "text/plain": [
       "10000"
      ]
     },
     "execution_count": 11,
     "metadata": {},
     "output_type": "execute_result"
    }
   ],
   "source": [
    "len(data_dict['data'])"
   ]
  },
  {
   "cell_type": "code",
   "execution_count": 25,
   "metadata": {},
   "outputs": [
    {
     "data": {
      "text/plain": [
       "dict_keys(['data', 'status', 'message'])"
      ]
     },
     "execution_count": 25,
     "metadata": {},
     "output_type": "execute_result"
    }
   ],
   "source": [
    "ortholog_dict.keys()"
   ]
  },
  {
   "cell_type": "code",
   "execution_count": 27,
   "metadata": {},
   "outputs": [
    {
     "data": {
      "text/plain": [
       "{'genes': [{'aas': '416',\n",
       "   'gene_id': {'id': 'LOC113850356', 'param': '3816_0:0058b8'},\n",
       "   'more_info': True,\n",
       "   'description': 'protein ROOT PRIMORDIUM DEFECTIVE 1',\n",
       "   'how_much_more_info': 1}],\n",
       " 'organism': {'id': '3816_0',\n",
       "  'name': 'Abrus precatorius',\n",
       "  'type': 'taxonomy',\n",
       "  'param': 'species in Plants',\n",
       "  'description': \"crab's eye;crab's-eye;rosary pea\"},\n",
       " 'species_statistics': {'genes_count': 24401,\n",
       "  'mapping_type': 'C',\n",
       "  'in_clusters_count': 68194}}"
      ]
     },
     "execution_count": 27,
     "metadata": {},
     "output_type": "execute_result"
    }
   ],
   "source": [
    "ortholog_dict['data'][0]"
   ]
  },
  {
   "cell_type": "code",
   "execution_count": 21,
   "metadata": {},
   "outputs": [
    {
     "data": {
      "text/plain": [
       "'10004at2759'"
      ]
     },
     "execution_count": 21,
     "metadata": {},
     "output_type": "execute_result"
    }
   ],
   "source": [
    "data_dict['data'][0]"
   ]
  },
  {
   "cell_type": "code",
   "execution_count": null,
   "metadata": {},
   "outputs": [],
   "source": []
  }
 ],
 "metadata": {
  "kernelspec": {
   "display_name": "Python 3",
   "language": "python",
   "name": "python3"
  },
  "language_info": {
   "codemirror_mode": {
    "name": "ipython",
    "version": 3
   },
   "file_extension": ".py",
   "mimetype": "text/x-python",
   "name": "python",
   "nbconvert_exporter": "python",
   "pygments_lexer": "ipython3",
   "version": "3.6.7"
  }
 },
 "nbformat": 4,
 "nbformat_minor": 2
}
