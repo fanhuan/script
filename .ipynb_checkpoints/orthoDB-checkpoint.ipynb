{
 "cells": [
  {
   "cell_type": "markdown",
   "metadata": {},
   "source": [
    "# Download all protein sequences in orthoDB v11 for one/multiple species\n",
    "\n",
    "1. odb11v0_OG2genes.tab.gz were downloaded from https://data.orthodb.org/download/\n",
    "wget https://data.orthodb.org/download/odb11v0_OG2genes.tab.gz\n",
    "2. get the OG ids that are related to oil palm (taxid 51953)\n",
    "zcat odb11v0_OG2genes.tab.gz | grep 51953_0 | cut -f 1 | sort | uniq > OG_51953_0.tab\n",
    "3. Download the oil palm protein sequences from the clusters that contains oil palm sequences\n",
    "nohup sh download.sh > logfile 2>&1 < /dev/null &\n",
    "\n",
    "download.sh:\n",
    "#!/bin/bash\n",
    "output_file=\"combined_data.tsv\"\n",
    "\n",
    "while IFS= read -r line; do\n",
    "    curl \"https://data.orthodb.org/current/fasta?id=$line&species=51953\" -L -k >> \"$output_file\"\n",
    "done < \"OG_51953_0.tab\""
   ]
  },
  {
   "cell_type": "markdown",
   "metadata": {},
   "source": [
    "## parse the search.data"
   ]
  },
  {
   "cell_type": "code",
   "execution_count": 23,
   "metadata": {},
   "outputs": [],
   "source": [
    "import json\n",
    "\n",
    "file_path = \"/bioinfo/palm/ref/orthoDBv11/search.dat\"\n",
    "\n",
    "with open(file_path, \"r\") as json_file:\n",
    "    data_dict = json.load(json_file)\n",
    "\n",
    "ortholog_path = \"/bioinfo/palm/ref/orthoDBv11/orthologs.dat\"\n",
    "\n",
    "with open(ortholog_path, \"r\") as json_file:\n",
    "    ortholog_dict = json.load(json_file)"
   ]
  },
  {
   "cell_type": "markdown",
   "metadata": {},
   "source": [
    "# parse the downloaded protein sequence to remove the redundent ones"
   ]
  },
  {
   "cell_type": "code",
   "execution_count": 37,
   "metadata": {},
   "outputs": [],
   "source": [
    "from Bio import SeqIO\n",
    "import json\n",
    "\n",
    "sequence_dic = {}\n",
    "tag_dic = {}\n",
    "level_dic = {}\n",
    "with open('/bioinfo/palm/ref/orthoDBv11/oil_palm_protein.fa','w') as fh:\n",
    "    for record in SeqIO.parse('/bioinfo/palm/ref/orthoDBv11/combined_data.tsv','fasta'):\n",
    "        if record.id in sequence_dic:\n",
    "            # gene already wrote out, check whether the sequence is different\n",
    "            if record.seq != sequence_dic[record.id]:\n",
    "                # need to write to fh if the sequence is different\n",
    "                gene, description = record.description.split(' ', 1)\n",
    "                description = description.strip()\n",
    "                description_dict = json.loads(description)\n",
    "                cluster = description_dict['pub_og_id']\n",
    "                record.id = record.id + '_' + cluster\n",
    "                tag_dic[gene] = cluster\n",
    "                SeqIO.write(record, fh, 'fasta')\n",
    "                print(gene) #nothing was printed, which means the protein sequences always stay the same no matter the node\n",
    "        else:\n",
    "            SeqIO.write(record, fh, 'fasta')\n",
    "        sequence_dic[record.id] = record.seq\n",
    "        "
   ]
  },
  {
   "cell_type": "markdown",
   "metadata": {},
   "source": [
    "# Now A simpler code with the understanding that the protein sequences always stay the same for the same gene no matter the node"
   ]
  },
  {
   "cell_type": "code",
   "execution_count": 44,
   "metadata": {},
   "outputs": [],
   "source": [
    "from Bio import SeqIO\n",
    "import json\n",
    "\n",
    "sequence_dic = {}\n",
    "level_dic = {}\n",
    "with open('/bioinfo/palm/ref/orthoDBv11/oil_palm_protein.fa','w') as fh:\n",
    "    for record in SeqIO.parse('/bioinfo/palm/ref/orthoDBv11/combined_data.tsv','fasta'):\n",
    "        gene, description = record.description.split(' ', 1)\n",
    "        description = description.strip()\n",
    "        description_dict = json.loads(description)\n",
    "        cluster = description_dict['pub_og_id']\n",
    "        level = cluster.split('at')[1]\n",
    "        if level in level_dic:\n",
    "            level_dic[level].append(gene)\n",
    "        else:\n",
    "            level_dic[level] = [gene]\n",
    "        if record.id not in sequence_dic:\n",
    "            SeqIO.write(record, fh, 'fasta')\n",
    "            sequence_dic[record.id] = record.seq\n",
    "        \n",
    "        "
   ]
  },
  {
   "cell_type": "code",
   "execution_count": 45,
   "metadata": {},
   "outputs": [
    {
     "name": "stdout",
     "output_type": "stream",
     "text": [
      "{'2759': 25657, '33090': 25541, '3193': 25459, '4447': 24754}\n"
     ]
    }
   ],
   "source": [
    "lengths_dict = {}\n",
    "\n",
    "# Iterate through the dictionary values and calculate lengths\n",
    "for key, value in level_dic.items():\n",
    "    unique_items = set(value)  # Create a set to store unique items\n",
    "    lengths_dict[key] = len(unique_items)\n",
    "\n",
    "print(lengths_dict)"
   ]
  },
  {
   "cell_type": "markdown",
   "metadata": {},
   "source": [
    "# This means one gene is classified into only one cluster at most at one level. \n",
    "\n",
    "# Then we used orthomapper to map all dura proteins to orthodb v11. Results are in /bioinfo/tools/orthologer/Results\n",
    "\n",
    "# Now let's get the protein sequences that wasn't placed to any orthodb clusters (14632).\n",
    "\n",
    "# Note that if a gene was not placed in orthoDBv11 by othomapper, it won't be found in the reciprocal mapping between dura and EG5inOrthoDBv11 either. \n",
    "\n",
    "# Now what do we do? Map to EG5 just to see what they could have done?"
   ]
  },
  {
   "cell_type": "code",
   "execution_count": 19,
   "metadata": {},
   "outputs": [
    {
     "name": "stdout",
     "output_type": "stream",
     "text": [
      "14632\n"
     ]
    }
   ],
   "source": [
    "import pandas as pd\n",
    "from Bio import SeqIO\n",
    "\n",
    "file_path = 'dura.og.annotations'\n",
    "df = pd.read_csv(file_path, sep='\\t', header=0)\n",
    "df.rename(columns={'#query': 'query'}, inplace=True)\n",
    "df_eg5 = pd.read_csv('dura_EG5_orthoDB11.tbl', sep='\\t', header=None)\n",
    "i = 0\n",
    "with open('dura_proteins_not_in_orthodbv11.fasta','w') as fh:\n",
    "    for record in SeqIO.parse('../dura/dura_proteins.fasta','fasta'):\n",
    "        if record.id not in df['query'].values:\n",
    "            if record.id in df_eg5[0]:\n",
    "                print(record.id)\n",
    "            SeqIO.write(record, fh, 'fasta')\n",
    "            i += 1\n",
    "print(i)\n"
   ]
  },
  {
   "cell_type": "markdown",
   "metadata": {},
   "source": [
    "# Merge the orthomapper results from all three levels, with priority to lower levels."
   ]
  },
  {
   "cell_type": "code",
   "execution_count": 8,
   "metadata": {},
   "outputs": [],
   "source": [
    "import pandas as pd\n",
    "from Bio import SeqIO\n",
    "\n",
    "file1 = 'dura4447_Results/dura4447.og.annotations'\n",
    "df1 = pd.read_csv(file1, sep='\\t', header=0)\n",
    "df1.rename(columns={'#query': 'query'}, inplace=True)\n",
    "\n",
    "file2 = 'dura3193_Results/dura3193.og.annotations'\n",
    "df2 = pd.read_csv(file2, sep='\\t', header=0)\n",
    "df2.rename(columns={'#query': 'query'}, inplace=True)\n",
    "\n",
    "df2_new = df2[~df2['query'].isin(df1['query'])]\n",
    "df12 = pd.concat([df1, df2_new], ignore_index=True)\n",
    "\n",
    "file3 = 'dura33090_Results/dura33090.og.annotations'\n",
    "df3 = pd.read_csv(file3, sep='\\t', header=0)\n",
    "df3.rename(columns={'#query': 'query'}, inplace=True)\n",
    "\n",
    "df3_new = df3[~df3['query'].isin(df12['query'])]\n",
    "df123 = pd.concat([df12, df3_new], ignore_index=True)\n",
    "\n",
    "df123.to_csv('dura_orthoDBv11_4447_3193_33090.og.annotations', sep='\\t', index=False)"
   ]
  },
  {
   "cell_type": "markdown",
   "metadata": {},
   "source": [
    "# Now we need to go from gene accession to clusterID, then dura gene ID.\n",
    "Play with the API"
   ]
  },
  {
   "cell_type": "code",
   "execution_count": 45,
   "metadata": {},
   "outputs": [
    {
     "name": "stdout",
     "output_type": "stream",
     "text": [
      "curl 'https://data.orthodb.org/current/search?query=ABI5&level=4447' -L -o ABI5_at4447.dat\n",
      "9\n"
     ]
    }
   ],
   "source": [
    "import subprocess, json\n",
    "\n",
    "gene_name = 'ABI5'\n",
    "level = 4447\n",
    "cmd = \"curl 'https://data.orthodb.org/current/search?query={}&level={}' -L -o {}_at{}.dat\".format(gene_name, level, gene_name, level)\n",
    "print(cmd)\n",
    "subprocess.run(cmd, shell=True, check=True)\n",
    "with open(\"{}_at{}.dat\".format(gene_name, level), \"r\") as json_file:\n",
    "    data_dict = json.load(json_file)\n",
    "anno_file = 'dura_orthoDBv11_4447_3193_33090.og.annotations'\n",
    "df = pd.read_csv(anno_file, sep='\\t', header=0)\n",
    "selected_rows = df[df['ODB_OG'].isin(data_dict['data'])]\n",
    "selected_rows.rename(columns={'#query': 'query'}, inplace=True)\n",
    "i = 0\n",
    "protein_file = '/bioinfo/palm/ref/dura/dura_proteins.fasta'\n",
    "with open('dura_proteins_{}_at{}.aa'.format(gene_name, level),'w') as fh:\n",
    "    for record in SeqIO.parse(protein_file,'fasta'):\n",
    "        if record.id in selected_rows['query'].values:\n",
    "            cluster = selected_rows.loc[selected_rows['query'] == record.id, 'ODB_OG']\n",
    "            tag = selected_rows.loc[selected_rows['query'] == record.id, 'Description']\n",
    "            if len(tag) == 1:\n",
    "                record.description = ':'.join([cluster.iloc[0], tag.iloc[0]])\n",
    "            else:\n",
    "                print(record.id + 'appeared in more than one cluster?')\n",
    "\n",
    "            SeqIO.write(record, fh, 'fasta')\n",
    "            i += 1\n",
    "print(i)"
   ]
  },
  {
   "cell_type": "code",
   "execution_count": 37,
   "metadata": {},
   "outputs": [
    {
     "data": {
      "text/plain": [
       "1"
      ]
     },
     "execution_count": 37,
     "metadata": {},
     "output_type": "execute_result"
    }
   ],
   "source": [
    "len(selected_rows.loc[selected_rows['query'] == 'Egu023084-mRNA-1', 'ODB_OG'])"
   ]
  },
  {
   "cell_type": "code",
   "execution_count": 39,
   "metadata": {},
   "outputs": [
    {
     "data": {
      "text/html": [
       "<div>\n",
       "<style scoped>\n",
       "    .dataframe tbody tr th:only-of-type {\n",
       "        vertical-align: middle;\n",
       "    }\n",
       "\n",
       "    .dataframe tbody tr th {\n",
       "        vertical-align: top;\n",
       "    }\n",
       "\n",
       "    .dataframe thead th {\n",
       "        text-align: right;\n",
       "    }\n",
       "</style>\n",
       "<table border=\"1\" class=\"dataframe\">\n",
       "  <thead>\n",
       "    <tr style=\"text-align: right;\">\n",
       "      <th></th>\n",
       "      <th>query</th>\n",
       "      <th>ODB_OG</th>\n",
       "      <th>evalue</th>\n",
       "      <th>score</th>\n",
       "      <th>COG_category</th>\n",
       "      <th>Description</th>\n",
       "      <th>GOs_mf</th>\n",
       "      <th>GOs_bp</th>\n",
       "      <th>EC</th>\n",
       "      <th>KEGG_ko</th>\n",
       "      <th>Interpro</th>\n",
       "    </tr>\n",
       "  </thead>\n",
       "  <tbody>\n",
       "    <tr>\n",
       "      <th>1739</th>\n",
       "      <td>Egu024817-mRNA-1</td>\n",
       "      <td>16748at4447</td>\n",
       "      <td>5.360000e-263</td>\n",
       "      <td>195.9000</td>\n",
       "      <td>-</td>\n",
       "      <td>RNA-binding protein 10 isoform X1</td>\n",
       "      <td>-</td>\n",
       "      <td>-</td>\n",
       "      <td>3.1.3.12,3.1.4.4</td>\n",
       "      <td>ko00500,ko00564,ko00565,ko03010,ko04144,osa011...</td>\n",
       "      <td>IPR000467,IPR041591</td>\n",
       "    </tr>\n",
       "    <tr>\n",
       "      <th>6466</th>\n",
       "      <td>Egu007769-mRNA-1</td>\n",
       "      <td>56001at4447</td>\n",
       "      <td>3.110000e-180</td>\n",
       "      <td>172.1500</td>\n",
       "      <td>T</td>\n",
       "      <td>E3 ubiquitin-protein ligase AIP2</td>\n",
       "      <td>-</td>\n",
       "      <td>GO:0016567,GO:0009737,GO:0009788</td>\n",
       "      <td>3.1.3.2</td>\n",
       "      <td>ko00905</td>\n",
       "      <td>IPR001841,IPR013083</td>\n",
       "    </tr>\n",
       "    <tr>\n",
       "      <th>21018</th>\n",
       "      <td>Egu004902-mRNA-1</td>\n",
       "      <td>128216at4447</td>\n",
       "      <td>7.000000e-66</td>\n",
       "      <td>175.6200</td>\n",
       "      <td>O,M</td>\n",
       "      <td>Prefoldin subunit 4</td>\n",
       "      <td>GO:0051082</td>\n",
       "      <td>-</td>\n",
       "      <td>-</td>\n",
       "      <td>ko04120,sita04016</td>\n",
       "      <td>IPR002777,IPR009053,IPR016661</td>\n",
       "    </tr>\n",
       "    <tr>\n",
       "      <th>21494</th>\n",
       "      <td>Egu002268-mRNA-1</td>\n",
       "      <td>129070at4447</td>\n",
       "      <td>0.000000e+00</td>\n",
       "      <td>170.9070</td>\n",
       "      <td>-</td>\n",
       "      <td>FRIGIDA-like protein</td>\n",
       "      <td>-</td>\n",
       "      <td>GO:0030154</td>\n",
       "      <td>2.1.1.-</td>\n",
       "      <td>ko03018,ko00270,ko00920,ko01200,ko01230,ko0301...</td>\n",
       "      <td>IPR012474</td>\n",
       "    </tr>\n",
       "    <tr>\n",
       "      <th>21495</th>\n",
       "      <td>Egu023084-mRNA-1</td>\n",
       "      <td>129070at4447</td>\n",
       "      <td>1.120000e-277</td>\n",
       "      <td>180.3700</td>\n",
       "      <td>-</td>\n",
       "      <td>FRIGIDA-like protein</td>\n",
       "      <td>-</td>\n",
       "      <td>GO:0030154</td>\n",
       "      <td>2.1.1.-</td>\n",
       "      <td>ko03018,ko00270,ko00920,ko01200,ko01230,ko0301...</td>\n",
       "      <td>IPR012474</td>\n",
       "    </tr>\n",
       "    <tr>\n",
       "      <th>23299</th>\n",
       "      <td>Egu019493-mRNA-1</td>\n",
       "      <td>132091at4447</td>\n",
       "      <td>0.000000e+00</td>\n",
       "      <td>100.0000</td>\n",
       "      <td>-</td>\n",
       "      <td>Regulatory protein viviparous-1</td>\n",
       "      <td>-</td>\n",
       "      <td>GO:0009737</td>\n",
       "      <td>1.11.1.7</td>\n",
       "      <td>ko00010,ko00710,ko00910,ko00940,ko01200,ko0123...</td>\n",
       "      <td>IPR003340,IPR015300,IPR044800</td>\n",
       "    </tr>\n",
       "    <tr>\n",
       "      <th>23300</th>\n",
       "      <td>Egu019493-mRNA-2</td>\n",
       "      <td>132091at4447</td>\n",
       "      <td>5.600000e-232</td>\n",
       "      <td>106.5400</td>\n",
       "      <td>-</td>\n",
       "      <td>Regulatory protein viviparous-1</td>\n",
       "      <td>-</td>\n",
       "      <td>GO:0009737</td>\n",
       "      <td>1.11.1.7</td>\n",
       "      <td>ko00010,ko00710,ko00910,ko00940,ko01200,ko0123...</td>\n",
       "      <td>IPR003340,IPR015300,IPR044800</td>\n",
       "    </tr>\n",
       "    <tr>\n",
       "      <th>26837</th>\n",
       "      <td>Egu029266-mRNA-1</td>\n",
       "      <td>138207at4447</td>\n",
       "      <td>0.000000e+00</td>\n",
       "      <td>99.1897</td>\n",
       "      <td>J,K,T</td>\n",
       "      <td>Zinc finger, RanBP2-type</td>\n",
       "      <td>GO:0046872</td>\n",
       "      <td>-</td>\n",
       "      <td>-</td>\n",
       "      <td>-</td>\n",
       "      <td>IPR000467,IPR000504,IPR001876,IPR012677,IPR035...</td>\n",
       "    </tr>\n",
       "    <tr>\n",
       "      <th>26838</th>\n",
       "      <td>Egu029266-mRNA-2</td>\n",
       "      <td>138207at4447</td>\n",
       "      <td>0.000000e+00</td>\n",
       "      <td>99.1791</td>\n",
       "      <td>J,K,T</td>\n",
       "      <td>Zinc finger, RanBP2-type</td>\n",
       "      <td>GO:0046872</td>\n",
       "      <td>-</td>\n",
       "      <td>-</td>\n",
       "      <td>-</td>\n",
       "      <td>IPR000467,IPR000504,IPR001876,IPR012677,IPR035...</td>\n",
       "    </tr>\n",
       "    <tr>\n",
       "      <th>26839</th>\n",
       "      <td>Egu029266-mRNA-3</td>\n",
       "      <td>138207at4447</td>\n",
       "      <td>0.000000e+00</td>\n",
       "      <td>158.0800</td>\n",
       "      <td>J,K,T</td>\n",
       "      <td>Zinc finger, RanBP2-type</td>\n",
       "      <td>GO:0046872</td>\n",
       "      <td>-</td>\n",
       "      <td>-</td>\n",
       "      <td>-</td>\n",
       "      <td>IPR000467,IPR000504,IPR001876,IPR012677,IPR035...</td>\n",
       "    </tr>\n",
       "    <tr>\n",
       "      <th>26840</th>\n",
       "      <td>Egu029266-mRNA-4</td>\n",
       "      <td>138207at4447</td>\n",
       "      <td>0.000000e+00</td>\n",
       "      <td>155.9100</td>\n",
       "      <td>J,K,T</td>\n",
       "      <td>Zinc finger, RanBP2-type</td>\n",
       "      <td>GO:0046872</td>\n",
       "      <td>-</td>\n",
       "      <td>-</td>\n",
       "      <td>-</td>\n",
       "      <td>IPR000467,IPR000504,IPR001876,IPR012677,IPR035...</td>\n",
       "    </tr>\n",
       "  </tbody>\n",
       "</table>\n",
       "</div>"
      ],
      "text/plain": [
       "                  query        ODB_OG         evalue     score COG_category  \\\n",
       "1739   Egu024817-mRNA-1   16748at4447  5.360000e-263  195.9000            -   \n",
       "6466   Egu007769-mRNA-1   56001at4447  3.110000e-180  172.1500            T   \n",
       "21018  Egu004902-mRNA-1  128216at4447   7.000000e-66  175.6200          O,M   \n",
       "21494  Egu002268-mRNA-1  129070at4447   0.000000e+00  170.9070            -   \n",
       "21495  Egu023084-mRNA-1  129070at4447  1.120000e-277  180.3700            -   \n",
       "23299  Egu019493-mRNA-1  132091at4447   0.000000e+00  100.0000            -   \n",
       "23300  Egu019493-mRNA-2  132091at4447  5.600000e-232  106.5400            -   \n",
       "26837  Egu029266-mRNA-1  138207at4447   0.000000e+00   99.1897        J,K,T   \n",
       "26838  Egu029266-mRNA-2  138207at4447   0.000000e+00   99.1791        J,K,T   \n",
       "26839  Egu029266-mRNA-3  138207at4447   0.000000e+00  158.0800        J,K,T   \n",
       "26840  Egu029266-mRNA-4  138207at4447   0.000000e+00  155.9100        J,K,T   \n",
       "\n",
       "                             Description      GOs_mf  \\\n",
       "1739   RNA-binding protein 10 isoform X1           -   \n",
       "6466    E3 ubiquitin-protein ligase AIP2           -   \n",
       "21018                Prefoldin subunit 4  GO:0051082   \n",
       "21494               FRIGIDA-like protein           -   \n",
       "21495               FRIGIDA-like protein           -   \n",
       "23299    Regulatory protein viviparous-1           -   \n",
       "23300    Regulatory protein viviparous-1           -   \n",
       "26837           Zinc finger, RanBP2-type  GO:0046872   \n",
       "26838           Zinc finger, RanBP2-type  GO:0046872   \n",
       "26839           Zinc finger, RanBP2-type  GO:0046872   \n",
       "26840           Zinc finger, RanBP2-type  GO:0046872   \n",
       "\n",
       "                                 GOs_bp                EC  \\\n",
       "1739                                  -  3.1.3.12,3.1.4.4   \n",
       "6466   GO:0016567,GO:0009737,GO:0009788           3.1.3.2   \n",
       "21018                                 -                 -   \n",
       "21494                        GO:0030154           2.1.1.-   \n",
       "21495                        GO:0030154           2.1.1.-   \n",
       "23299                        GO:0009737          1.11.1.7   \n",
       "23300                        GO:0009737          1.11.1.7   \n",
       "26837                                 -                 -   \n",
       "26838                                 -                 -   \n",
       "26839                                 -                 -   \n",
       "26840                                 -                 -   \n",
       "\n",
       "                                                 KEGG_ko  \\\n",
       "1739   ko00500,ko00564,ko00565,ko03010,ko04144,osa011...   \n",
       "6466                                             ko00905   \n",
       "21018                                  ko04120,sita04016   \n",
       "21494  ko03018,ko00270,ko00920,ko01200,ko01230,ko0301...   \n",
       "21495  ko03018,ko00270,ko00920,ko01200,ko01230,ko0301...   \n",
       "23299  ko00010,ko00710,ko00910,ko00940,ko01200,ko0123...   \n",
       "23300  ko00010,ko00710,ko00910,ko00940,ko01200,ko0123...   \n",
       "26837                                                  -   \n",
       "26838                                                  -   \n",
       "26839                                                  -   \n",
       "26840                                                  -   \n",
       "\n",
       "                                                Interpro  \n",
       "1739                                 IPR000467,IPR041591  \n",
       "6466                                 IPR001841,IPR013083  \n",
       "21018                      IPR002777,IPR009053,IPR016661  \n",
       "21494                                          IPR012474  \n",
       "21495                                          IPR012474  \n",
       "23299                      IPR003340,IPR015300,IPR044800  \n",
       "23300                      IPR003340,IPR015300,IPR044800  \n",
       "26837  IPR000467,IPR000504,IPR001876,IPR012677,IPR035...  \n",
       "26838  IPR000467,IPR000504,IPR001876,IPR012677,IPR035...  \n",
       "26839  IPR000467,IPR000504,IPR001876,IPR012677,IPR035...  \n",
       "26840  IPR000467,IPR000504,IPR001876,IPR012677,IPR035...  "
      ]
     },
     "execution_count": 39,
     "metadata": {},
     "output_type": "execute_result"
    }
   ],
   "source": [
    "f"
   ]
  },
  {
   "cell_type": "code",
   "execution_count": 13,
   "metadata": {},
   "outputs": [
    {
     "data": {
      "text/plain": [
       "36026"
      ]
     },
     "execution_count": 13,
     "metadata": {},
     "output_type": "execute_result"
    }
   ],
   "source": [
    "len(df123)"
   ]
  },
  {
   "cell_type": "code",
   "execution_count": 14,
   "metadata": {},
   "outputs": [],
   "source": [
    "duplicates = df123[df123.duplicated('query')]  # Replace 'column_name' with the actual column name\n"
   ]
  },
  {
   "cell_type": "code",
   "execution_count": 1,
   "metadata": {},
   "outputs": [],
   "source": [
    "import pandas as pd\n",
    "anno_file = 'dura_orthoDBv11_4447_3193_33090.og.annotations'\n",
    "df = pd.read_csv(anno_file, sep='\\t', header=0)\n",
    "tpm_file = 'counts_transcript_TPM_concise.txt'\n",
    "tpm = pd.read_csv(tpm_file, sep=',', header=0)\n"
   ]
  },
  {
   "cell_type": "code",
   "execution_count": 3,
   "metadata": {},
   "outputs": [],
   "source": [
    "df_1 = df[['query','Description']]\n",
    "df_2 = pd.merge(df_1, tpm, on='query',how='outer')"
   ]
  },
  {
   "cell_type": "code",
   "execution_count": 4,
   "metadata": {},
   "outputs": [],
   "source": [
    "df_2.to_csv('output.csv', index=False)"
   ]
  },
  {
   "cell_type": "raw",
   "metadata": {},
   "source": []
  }
 ],
 "metadata": {
  "kernelspec": {
   "display_name": "Python 3 (ipykernel)",
   "language": "python",
   "name": "python3"
  },
  "language_info": {
   "codemirror_mode": {
    "name": "ipython",
    "version": 3
   },
   "file_extension": ".py",
   "mimetype": "text/x-python",
   "name": "python",
   "nbconvert_exporter": "python",
   "pygments_lexer": "ipython3",
   "version": "3.10.9"
  }
 },
 "nbformat": 4,
 "nbformat_minor": 2
}
